{
 "cells": [
  {
   "cell_type": "markdown",
   "id": "cab81073",
   "metadata": {},
   "source": [
    "#  DATA PREPROCESSING"
   ]
  },
  {
   "cell_type": "code",
   "execution_count": 1,
   "id": "b5e120ae",
   "metadata": {},
   "outputs": [],
   "source": [
    "import pandas as pd\n",
    "import numpy as np\n",
    "import seaborn as sns\n",
    "import matplotlib.pyplot as plt\n"
   ]
  },
  {
   "cell_type": "code",
   "execution_count": 2,
   "id": "53e1586a",
   "metadata": {},
   "outputs": [],
   "source": [
    "df = pd.read_csv(\"/Users/anuragchaubey/customer-segmentation/data/OnlineRetail.csv\")"
   ]
  },
  {
   "cell_type": "code",
   "execution_count": 3,
   "id": "bb164ad0",
   "metadata": {},
   "outputs": [
    {
     "data": {
      "text/html": [
       "<div>\n",
       "<style scoped>\n",
       "    .dataframe tbody tr th:only-of-type {\n",
       "        vertical-align: middle;\n",
       "    }\n",
       "\n",
       "    .dataframe tbody tr th {\n",
       "        vertical-align: top;\n",
       "    }\n",
       "\n",
       "    .dataframe thead th {\n",
       "        text-align: right;\n",
       "    }\n",
       "</style>\n",
       "<table border=\"1\" class=\"dataframe\">\n",
       "  <thead>\n",
       "    <tr style=\"text-align: right;\">\n",
       "      <th></th>\n",
       "      <th>InvoiceNo</th>\n",
       "      <th>StockCode</th>\n",
       "      <th>Description</th>\n",
       "      <th>Quantity</th>\n",
       "      <th>InvoiceDate</th>\n",
       "      <th>UnitPrice</th>\n",
       "      <th>CustomerID</th>\n",
       "      <th>Country</th>\n",
       "    </tr>\n",
       "  </thead>\n",
       "  <tbody>\n",
       "    <tr>\n",
       "      <th>62511</th>\n",
       "      <td>541506</td>\n",
       "      <td>21035</td>\n",
       "      <td>SET/2 RED RETROSPOT TEA TOWELS</td>\n",
       "      <td>1</td>\n",
       "      <td>1/18/2011 16:05</td>\n",
       "      <td>5.79</td>\n",
       "      <td>NaN</td>\n",
       "      <td>United Kingdom</td>\n",
       "    </tr>\n",
       "    <tr>\n",
       "      <th>188725</th>\n",
       "      <td>553057</td>\n",
       "      <td>20726</td>\n",
       "      <td>LUNCH BAG WOODLAND</td>\n",
       "      <td>10</td>\n",
       "      <td>5/13/2011 10:41</td>\n",
       "      <td>1.65</td>\n",
       "      <td>16161.0</td>\n",
       "      <td>United Kingdom</td>\n",
       "    </tr>\n",
       "    <tr>\n",
       "      <th>499677</th>\n",
       "      <td>578683</td>\n",
       "      <td>20975</td>\n",
       "      <td>12 PENCILS SMALL TUBE RED RETROSPOT</td>\n",
       "      <td>24</td>\n",
       "      <td>11/25/2011 8:55</td>\n",
       "      <td>0.65</td>\n",
       "      <td>15134.0</td>\n",
       "      <td>United Kingdom</td>\n",
       "    </tr>\n",
       "    <tr>\n",
       "      <th>358682</th>\n",
       "      <td>568160</td>\n",
       "      <td>23393</td>\n",
       "      <td>HOME SWEET HOME CUSHION COVER</td>\n",
       "      <td>4</td>\n",
       "      <td>9/25/2011 12:25</td>\n",
       "      <td>3.75</td>\n",
       "      <td>17498.0</td>\n",
       "      <td>United Kingdom</td>\n",
       "    </tr>\n",
       "    <tr>\n",
       "      <th>504728</th>\n",
       "      <td>578993</td>\n",
       "      <td>23498</td>\n",
       "      <td>CLASSIC BICYCLE CLIPS</td>\n",
       "      <td>1</td>\n",
       "      <td>11/27/2011 15:38</td>\n",
       "      <td>1.45</td>\n",
       "      <td>15987.0</td>\n",
       "      <td>United Kingdom</td>\n",
       "    </tr>\n",
       "  </tbody>\n",
       "</table>\n",
       "</div>"
      ],
      "text/plain": [
       "       InvoiceNo StockCode                          Description  Quantity  \\\n",
       "62511     541506     21035      SET/2 RED RETROSPOT TEA TOWELS          1   \n",
       "188725    553057     20726                   LUNCH BAG WOODLAND        10   \n",
       "499677    578683     20975  12 PENCILS SMALL TUBE RED RETROSPOT        24   \n",
       "358682    568160     23393       HOME SWEET HOME CUSHION COVER          4   \n",
       "504728    578993     23498               CLASSIC BICYCLE CLIPS          1   \n",
       "\n",
       "             InvoiceDate  UnitPrice  CustomerID         Country  \n",
       "62511    1/18/2011 16:05       5.79         NaN  United Kingdom  \n",
       "188725   5/13/2011 10:41       1.65     16161.0  United Kingdom  \n",
       "499677   11/25/2011 8:55       0.65     15134.0  United Kingdom  \n",
       "358682   9/25/2011 12:25       3.75     17498.0  United Kingdom  \n",
       "504728  11/27/2011 15:38       1.45     15987.0  United Kingdom  "
      ]
     },
     "execution_count": 3,
     "metadata": {},
     "output_type": "execute_result"
    }
   ],
   "source": [
    "df.sample(5)"
   ]
  },
  {
   "cell_type": "code",
   "execution_count": 4,
   "id": "cd494d4f",
   "metadata": {},
   "outputs": [
    {
     "data": {
      "text/plain": [
       "(541909, 8)"
      ]
     },
     "execution_count": 4,
     "metadata": {},
     "output_type": "execute_result"
    }
   ],
   "source": [
    "df.shape"
   ]
  },
  {
   "cell_type": "code",
   "execution_count": 5,
   "id": "b246a37a",
   "metadata": {},
   "outputs": [
    {
     "name": "stdout",
     "output_type": "stream",
     "text": [
      "<class 'pandas.core.frame.DataFrame'>\n",
      "RangeIndex: 541909 entries, 0 to 541908\n",
      "Data columns (total 8 columns):\n",
      " #   Column       Non-Null Count   Dtype  \n",
      "---  ------       --------------   -----  \n",
      " 0   InvoiceNo    541909 non-null  object \n",
      " 1   StockCode    541909 non-null  object \n",
      " 2   Description  540455 non-null  object \n",
      " 3   Quantity     541909 non-null  int64  \n",
      " 4   InvoiceDate  541909 non-null  object \n",
      " 5   UnitPrice    541909 non-null  float64\n",
      " 6   CustomerID   406829 non-null  float64\n",
      " 7   Country      541909 non-null  object \n",
      "dtypes: float64(2), int64(1), object(5)\n",
      "memory usage: 33.1+ MB\n"
     ]
    }
   ],
   "source": [
    "df.info()"
   ]
  },
  {
   "cell_type": "code",
   "execution_count": 6,
   "id": "e884282d",
   "metadata": {},
   "outputs": [
    {
     "data": {
      "text/html": [
       "<div>\n",
       "<style scoped>\n",
       "    .dataframe tbody tr th:only-of-type {\n",
       "        vertical-align: middle;\n",
       "    }\n",
       "\n",
       "    .dataframe tbody tr th {\n",
       "        vertical-align: top;\n",
       "    }\n",
       "\n",
       "    .dataframe thead th {\n",
       "        text-align: right;\n",
       "    }\n",
       "</style>\n",
       "<table border=\"1\" class=\"dataframe\">\n",
       "  <thead>\n",
       "    <tr style=\"text-align: right;\">\n",
       "      <th></th>\n",
       "      <th>Quantity</th>\n",
       "      <th>UnitPrice</th>\n",
       "      <th>CustomerID</th>\n",
       "    </tr>\n",
       "  </thead>\n",
       "  <tbody>\n",
       "    <tr>\n",
       "      <th>count</th>\n",
       "      <td>541909.000000</td>\n",
       "      <td>541909.000000</td>\n",
       "      <td>406829.000000</td>\n",
       "    </tr>\n",
       "    <tr>\n",
       "      <th>mean</th>\n",
       "      <td>9.552250</td>\n",
       "      <td>4.611114</td>\n",
       "      <td>15287.690570</td>\n",
       "    </tr>\n",
       "    <tr>\n",
       "      <th>std</th>\n",
       "      <td>218.081158</td>\n",
       "      <td>96.759853</td>\n",
       "      <td>1713.600303</td>\n",
       "    </tr>\n",
       "    <tr>\n",
       "      <th>min</th>\n",
       "      <td>-80995.000000</td>\n",
       "      <td>-11062.060000</td>\n",
       "      <td>12346.000000</td>\n",
       "    </tr>\n",
       "    <tr>\n",
       "      <th>25%</th>\n",
       "      <td>1.000000</td>\n",
       "      <td>1.250000</td>\n",
       "      <td>13953.000000</td>\n",
       "    </tr>\n",
       "    <tr>\n",
       "      <th>50%</th>\n",
       "      <td>3.000000</td>\n",
       "      <td>2.080000</td>\n",
       "      <td>15152.000000</td>\n",
       "    </tr>\n",
       "    <tr>\n",
       "      <th>75%</th>\n",
       "      <td>10.000000</td>\n",
       "      <td>4.130000</td>\n",
       "      <td>16791.000000</td>\n",
       "    </tr>\n",
       "    <tr>\n",
       "      <th>max</th>\n",
       "      <td>80995.000000</td>\n",
       "      <td>38970.000000</td>\n",
       "      <td>18287.000000</td>\n",
       "    </tr>\n",
       "  </tbody>\n",
       "</table>\n",
       "</div>"
      ],
      "text/plain": [
       "            Quantity      UnitPrice     CustomerID\n",
       "count  541909.000000  541909.000000  406829.000000\n",
       "mean        9.552250       4.611114   15287.690570\n",
       "std       218.081158      96.759853    1713.600303\n",
       "min    -80995.000000  -11062.060000   12346.000000\n",
       "25%         1.000000       1.250000   13953.000000\n",
       "50%         3.000000       2.080000   15152.000000\n",
       "75%        10.000000       4.130000   16791.000000\n",
       "max     80995.000000   38970.000000   18287.000000"
      ]
     },
     "execution_count": 6,
     "metadata": {},
     "output_type": "execute_result"
    }
   ],
   "source": [
    "df.describe()"
   ]
  },
  {
   "cell_type": "markdown",
   "id": "debdb210",
   "metadata": {},
   "source": [
    "dealing with missing data"
   ]
  },
  {
   "cell_type": "code",
   "execution_count": 7,
   "id": "a4bdff7b",
   "metadata": {},
   "outputs": [
    {
     "data": {
      "text/plain": [
       "InvoiceNo           0\n",
       "StockCode           0\n",
       "Description      1454\n",
       "Quantity            0\n",
       "InvoiceDate         0\n",
       "UnitPrice           0\n",
       "CustomerID     135080\n",
       "Country             0\n",
       "dtype: int64"
      ]
     },
     "execution_count": 7,
     "metadata": {},
     "output_type": "execute_result"
    }
   ],
   "source": [
    "df.isnull().sum()"
   ]
  },
  {
   "cell_type": "code",
   "execution_count": 8,
   "id": "f977c145",
   "metadata": {},
   "outputs": [
    {
     "data": {
      "text/plain": [
       "InvoiceNo       0.000000\n",
       "StockCode       0.000000\n",
       "Description     0.268311\n",
       "Quantity        0.000000\n",
       "InvoiceDate     0.000000\n",
       "UnitPrice       0.000000\n",
       "CustomerID     24.926694\n",
       "Country         0.000000\n",
       "dtype: float64"
      ]
     },
     "execution_count": 8,
     "metadata": {},
     "output_type": "execute_result"
    }
   ],
   "source": [
    "# percentage of missing values\n",
    "(df.isnull().sum() / len(df)) * 100"
   ]
  },
  {
   "cell_type": "code",
   "execution_count": 9,
   "id": "25ea8949",
   "metadata": {},
   "outputs": [
    {
     "data": {
      "text/html": [
       "<div>\n",
       "<style scoped>\n",
       "    .dataframe tbody tr th:only-of-type {\n",
       "        vertical-align: middle;\n",
       "    }\n",
       "\n",
       "    .dataframe tbody tr th {\n",
       "        vertical-align: top;\n",
       "    }\n",
       "\n",
       "    .dataframe thead th {\n",
       "        text-align: right;\n",
       "    }\n",
       "</style>\n",
       "<table border=\"1\" class=\"dataframe\">\n",
       "  <thead>\n",
       "    <tr style=\"text-align: right;\">\n",
       "      <th></th>\n",
       "      <th>Missing Values</th>\n",
       "      <th>Percentage (%)</th>\n",
       "    </tr>\n",
       "  </thead>\n",
       "  <tbody>\n",
       "    <tr>\n",
       "      <th>CustomerID</th>\n",
       "      <td>135080</td>\n",
       "      <td>24.926694</td>\n",
       "    </tr>\n",
       "    <tr>\n",
       "      <th>Description</th>\n",
       "      <td>1454</td>\n",
       "      <td>0.268311</td>\n",
       "    </tr>\n",
       "  </tbody>\n",
       "</table>\n",
       "</div>"
      ],
      "text/plain": [
       "             Missing Values  Percentage (%)\n",
       "CustomerID           135080       24.926694\n",
       "Description            1454        0.268311"
      ]
     },
     "execution_count": 9,
     "metadata": {},
     "output_type": "execute_result"
    }
   ],
   "source": [
    "# calculation of percentage of missing values\n",
    "missing_data = df.isnull().sum()\n",
    "missing_percent = (missing_data / len(df)) * 100\n",
    "\n",
    "missing_df = pd.DataFrame({\n",
    "    'Missing Values': missing_data,\n",
    "    'Percentage (%)': missing_percent\n",
    "})\n",
    "missing_df = missing_df[missing_df['Missing Values'] > 0].sort_values(by='Percentage (%)', ascending=False)\n",
    "missing_df"
   ]
  },
  {
   "cell_type": "code",
   "execution_count": 10,
   "id": "d9b18ae6",
   "metadata": {},
   "outputs": [
    {
     "data": {
      "image/png": "[encoded data removed]",
      "text/plain": [
       "<Figure size 1000x600 with 1 Axes>"
      ]
     },
     "metadata": {},
     "output_type": "display_data"
    }
   ],
   "source": [
    "# visual analysis of missing values\n",
    "plt.figure(figsize=(10, 6))\n",
    "sns.heatmap(missing_df[['Missing Values']], annot=True, fmt='g', cmap='coolwarm', \n",
    "            cbar=False, \n",
    "            linewidths=1,\n",
    "            linecolor='black'\n",
    ")\n",
    "\n",
    "plt.title(\" Missing Values per Column \", fontsize=14)\n",
    "plt.ylabel(\"Columns\")\n",
    "plt.xlabel(\"Missing Count\")\n",
    "plt.tight_layout()\n",
    "plt.show()"
   ]
  },
  {
   "cell_type": "code",
   "execution_count": 11,
   "id": "21e3d852",
   "metadata": {},
   "outputs": [],
   "source": [
    "# customer id column has >20% missing values (remove)\n",
    "df = df.dropna(subset=['CustomerID'])"
   ]
  },
  {
   "cell_type": "code",
   "execution_count": 12,
   "id": "1ba6e8cd",
   "metadata": {},
   "outputs": [],
   "source": [
    "# fill missing values in desccreption with placeholder\n",
    "df['Description'] = df['Description'].fillna(\"Unknown\")"
   ]
  },
  {
   "cell_type": "code",
   "execution_count": 13,
   "id": "3964ff46",
   "metadata": {},
   "outputs": [
    {
     "data": {
      "text/plain": [
       "InvoiceNo      0\n",
       "StockCode      0\n",
       "Description    0\n",
       "Quantity       0\n",
       "InvoiceDate    0\n",
       "UnitPrice      0\n",
       "CustomerID     0\n",
       "Country        0\n",
       "dtype: int64"
      ]
     },
     "execution_count": 13,
     "metadata": {},
     "output_type": "execute_result"
    }
   ],
   "source": [
    "# cross verification of null values\n",
    "df.isnull().sum()"
   ]
  },
  {
   "cell_type": "markdown",
   "id": "bb5f7e2b",
   "metadata": {},
   "source": [
    "fix data types of all columns "
   ]
  },
  {
   "cell_type": "code",
   "execution_count": 14,
   "id": "c40040c4",
   "metadata": {},
   "outputs": [],
   "source": [
    "df['InvoiceNo'] = df['InvoiceNo'].astype(str)\n",
    "df['StockCode'] = df['StockCode'].astype(str)\n",
    "df['Description'] = df['Description'].astype(str)\n",
    "df['CustomerID'] = df['CustomerID'].astype(int)\n",
    "\n",
    "# convert invoice date to datetime\n",
    "df['InvoiceDate'] = pd.to_datetime(df['InvoiceDate'])"
   ]
  },
  {
   "cell_type": "code",
   "execution_count": 15,
   "id": "817b305c",
   "metadata": {},
   "outputs": [
    {
     "name": "stdout",
     "output_type": "stream",
     "text": [
      "<class 'pandas.core.frame.DataFrame'>\n",
      "Index: 406829 entries, 0 to 541908\n",
      "Data columns (total 8 columns):\n",
      " #   Column       Non-Null Count   Dtype         \n",
      "---  ------       --------------   -----         \n",
      " 0   InvoiceNo    406829 non-null  object        \n",
      " 1   StockCode    406829 non-null  object        \n",
      " 2   Description  406829 non-null  object        \n",
      " 3   Quantity     406829 non-null  int64         \n",
      " 4   InvoiceDate  406829 non-null  datetime64[ns]\n",
      " 5   UnitPrice    406829 non-null  float64       \n",
      " 6   CustomerID   406829 non-null  int64         \n",
      " 7   Country      406829 non-null  object        \n",
      "dtypes: datetime64[ns](1), float64(1), int64(2), object(4)\n",
      "memory usage: 27.9+ MB\n"
     ]
    }
   ],
   "source": [
    "df.info()"
   ]
  },
  {
   "cell_type": "code",
   "execution_count": 16,
   "id": "236a4189",
   "metadata": {},
   "outputs": [
    {
     "data": {
      "text/html": [
       "<div>\n",
       "<style scoped>\n",
       "    .dataframe tbody tr th:only-of-type {\n",
       "        vertical-align: middle;\n",
       "    }\n",
       "\n",
       "    .dataframe tbody tr th {\n",
       "        vertical-align: top;\n",
       "    }\n",
       "\n",
       "    .dataframe thead th {\n",
       "        text-align: right;\n",
       "    }\n",
       "</style>\n",
       "<table border=\"1\" class=\"dataframe\">\n",
       "  <thead>\n",
       "    <tr style=\"text-align: right;\">\n",
       "      <th></th>\n",
       "      <th>InvoiceNo</th>\n",
       "      <th>StockCode</th>\n",
       "      <th>Description</th>\n",
       "      <th>Quantity</th>\n",
       "      <th>InvoiceDate</th>\n",
       "      <th>UnitPrice</th>\n",
       "      <th>CustomerID</th>\n",
       "      <th>Country</th>\n",
       "    </tr>\n",
       "  </thead>\n",
       "  <tbody>\n",
       "    <tr>\n",
       "      <th>0</th>\n",
       "      <td>536365</td>\n",
       "      <td>85123A</td>\n",
       "      <td>WHITE HANGING HEART T-LIGHT HOLDER</td>\n",
       "      <td>6</td>\n",
       "      <td>2010-12-01 08:26:00</td>\n",
       "      <td>2.55</td>\n",
       "      <td>17850</td>\n",
       "      <td>United Kingdom</td>\n",
       "    </tr>\n",
       "    <tr>\n",
       "      <th>1</th>\n",
       "      <td>536365</td>\n",
       "      <td>71053</td>\n",
       "      <td>WHITE METAL LANTERN</td>\n",
       "      <td>6</td>\n",
       "      <td>2010-12-01 08:26:00</td>\n",
       "      <td>3.39</td>\n",
       "      <td>17850</td>\n",
       "      <td>United Kingdom</td>\n",
       "    </tr>\n",
       "    <tr>\n",
       "      <th>2</th>\n",
       "      <td>536365</td>\n",
       "      <td>84406B</td>\n",
       "      <td>CREAM CUPID HEARTS COAT HANGER</td>\n",
       "      <td>8</td>\n",
       "      <td>2010-12-01 08:26:00</td>\n",
       "      <td>2.75</td>\n",
       "      <td>17850</td>\n",
       "      <td>United Kingdom</td>\n",
       "    </tr>\n",
       "    <tr>\n",
       "      <th>3</th>\n",
       "      <td>536365</td>\n",
       "      <td>84029G</td>\n",
       "      <td>KNITTED UNION FLAG HOT WATER BOTTLE</td>\n",
       "      <td>6</td>\n",
       "      <td>2010-12-01 08:26:00</td>\n",
       "      <td>3.39</td>\n",
       "      <td>17850</td>\n",
       "      <td>United Kingdom</td>\n",
       "    </tr>\n",
       "    <tr>\n",
       "      <th>4</th>\n",
       "      <td>536365</td>\n",
       "      <td>84029E</td>\n",
       "      <td>RED WOOLLY HOTTIE WHITE HEART.</td>\n",
       "      <td>6</td>\n",
       "      <td>2010-12-01 08:26:00</td>\n",
       "      <td>3.39</td>\n",
       "      <td>17850</td>\n",
       "      <td>United Kingdom</td>\n",
       "    </tr>\n",
       "  </tbody>\n",
       "</table>\n",
       "</div>"
      ],
      "text/plain": [
       "  InvoiceNo StockCode                          Description  Quantity  \\\n",
       "0    536365    85123A   WHITE HANGING HEART T-LIGHT HOLDER         6   \n",
       "1    536365     71053                  WHITE METAL LANTERN         6   \n",
       "2    536365    84406B       CREAM CUPID HEARTS COAT HANGER         8   \n",
       "3    536365    84029G  KNITTED UNION FLAG HOT WATER BOTTLE         6   \n",
       "4    536365    84029E       RED WOOLLY HOTTIE WHITE HEART.         6   \n",
       "\n",
       "          InvoiceDate  UnitPrice  CustomerID         Country  \n",
       "0 2010-12-01 08:26:00       2.55       17850  United Kingdom  \n",
       "1 2010-12-01 08:26:00       3.39       17850  United Kingdom  \n",
       "2 2010-12-01 08:26:00       2.75       17850  United Kingdom  \n",
       "3 2010-12-01 08:26:00       3.39       17850  United Kingdom  \n",
       "4 2010-12-01 08:26:00       3.39       17850  United Kingdom  "
      ]
     },
     "execution_count": 16,
     "metadata": {},
     "output_type": "execute_result"
    }
   ],
   "source": [
    "df.head(5)"
   ]
  },
  {
   "cell_type": "code",
   "execution_count": 17,
   "id": "4c8f6019",
   "metadata": {},
   "outputs": [],
   "source": [
    "# check the cancelled invoices\n",
    "df[df['InvoiceNo'].str.startswith('C')].head()\n",
    "df[df['InvoiceNo'].str.startswith('C')].value_counts()\n",
    "\n",
    "# remove all the values for cancelled invoice\n",
    "df = df[~df['InvoiceNo'].str.startswith('C')]"
   ]
  },
  {
   "cell_type": "code",
   "execution_count": 18,
   "id": "b6b35471",
   "metadata": {},
   "outputs": [],
   "source": [
    "# remove quantity and unitprice with invalid values\n",
    "df=df[(df['Quantity']>0) & (df['UnitPrice']>0)]"
   ]
  },
  {
   "cell_type": "markdown",
   "id": "4a0e246a",
   "metadata": {},
   "source": [
    "create a new column for total amount"
   ]
  },
  {
   "cell_type": "code",
   "execution_count": 19,
   "id": "237511fe",
   "metadata": {},
   "outputs": [],
   "source": [
    "df['TotalAmount'] = df['Quantity'] * df['UnitPrice']"
   ]
  },
  {
   "cell_type": "code",
   "execution_count": 20,
   "id": "40d39f9f",
   "metadata": {},
   "outputs": [
    {
     "data": {
      "text/html": [
       "<div>\n",
       "<style scoped>\n",
       "    .dataframe tbody tr th:only-of-type {\n",
       "        vertical-align: middle;\n",
       "    }\n",
       "\n",
       "    .dataframe tbody tr th {\n",
       "        vertical-align: top;\n",
       "    }\n",
       "\n",
       "    .dataframe thead th {\n",
       "        text-align: right;\n",
       "    }\n",
       "</style>\n",
       "<table border=\"1\" class=\"dataframe\">\n",
       "  <thead>\n",
       "    <tr style=\"text-align: right;\">\n",
       "      <th></th>\n",
       "      <th>Quantity</th>\n",
       "      <th>UnitPrice</th>\n",
       "      <th>TotalAmount</th>\n",
       "    </tr>\n",
       "  </thead>\n",
       "  <tbody>\n",
       "    <tr>\n",
       "      <th>0</th>\n",
       "      <td>6</td>\n",
       "      <td>2.55</td>\n",
       "      <td>15.30</td>\n",
       "    </tr>\n",
       "    <tr>\n",
       "      <th>1</th>\n",
       "      <td>6</td>\n",
       "      <td>3.39</td>\n",
       "      <td>20.34</td>\n",
       "    </tr>\n",
       "    <tr>\n",
       "      <th>2</th>\n",
       "      <td>8</td>\n",
       "      <td>2.75</td>\n",
       "      <td>22.00</td>\n",
       "    </tr>\n",
       "    <tr>\n",
       "      <th>3</th>\n",
       "      <td>6</td>\n",
       "      <td>3.39</td>\n",
       "      <td>20.34</td>\n",
       "    </tr>\n",
       "    <tr>\n",
       "      <th>4</th>\n",
       "      <td>6</td>\n",
       "      <td>3.39</td>\n",
       "      <td>20.34</td>\n",
       "    </tr>\n",
       "  </tbody>\n",
       "</table>\n",
       "</div>"
      ],
      "text/plain": [
       "   Quantity  UnitPrice  TotalAmount\n",
       "0         6       2.55        15.30\n",
       "1         6       3.39        20.34\n",
       "2         8       2.75        22.00\n",
       "3         6       3.39        20.34\n",
       "4         6       3.39        20.34"
      ]
     },
     "execution_count": 20,
     "metadata": {},
     "output_type": "execute_result"
    }
   ],
   "source": [
    "df[['Quantity', 'UnitPrice', 'TotalAmount']].head()"
   ]
  },
  {
   "cell_type": "code",
   "execution_count": 21,
   "id": "6f77f0fd",
   "metadata": {},
   "outputs": [],
   "source": [
    "# check for 0 amount\n",
    "df[df['TotalAmount']==0]\n",
    "\n",
    "df = df[df['TotalAmount']>0]"
   ]
  },
  {
   "cell_type": "markdown",
   "id": "2d1cc0b0",
   "metadata": {},
   "source": [
    "final check for the cleaning process"
   ]
  },
  {
   "cell_type": "code",
   "execution_count": 22,
   "id": "1fe85944",
   "metadata": {},
   "outputs": [
    {
     "name": "stdout",
     "output_type": "stream",
     "text": [
      "<class 'pandas.core.frame.DataFrame'>\n",
      "Index: 397884 entries, 0 to 541908\n",
      "Data columns (total 9 columns):\n",
      " #   Column       Non-Null Count   Dtype         \n",
      "---  ------       --------------   -----         \n",
      " 0   InvoiceNo    397884 non-null  object        \n",
      " 1   StockCode    397884 non-null  object        \n",
      " 2   Description  397884 non-null  object        \n",
      " 3   Quantity     397884 non-null  int64         \n",
      " 4   InvoiceDate  397884 non-null  datetime64[ns]\n",
      " 5   UnitPrice    397884 non-null  float64       \n",
      " 6   CustomerID   397884 non-null  int64         \n",
      " 7   Country      397884 non-null  object        \n",
      " 8   TotalAmount  397884 non-null  float64       \n",
      "dtypes: datetime64[ns](1), float64(2), int64(2), object(4)\n",
      "memory usage: 30.4+ MB\n"
     ]
    }
   ],
   "source": [
    "df.info()"
   ]
  },
  {
   "cell_type": "code",
   "execution_count": 23,
   "id": "7cbc3e68",
   "metadata": {},
   "outputs": [
    {
     "data": {
      "text/html": [
       "<div>\n",
       "<style scoped>\n",
       "    .dataframe tbody tr th:only-of-type {\n",
       "        vertical-align: middle;\n",
       "    }\n",
       "\n",
       "    .dataframe tbody tr th {\n",
       "        vertical-align: top;\n",
       "    }\n",
       "\n",
       "    .dataframe thead th {\n",
       "        text-align: right;\n",
       "    }\n",
       "</style>\n",
       "<table border=\"1\" class=\"dataframe\">\n",
       "  <thead>\n",
       "    <tr style=\"text-align: right;\">\n",
       "      <th></th>\n",
       "      <th>Quantity</th>\n",
       "      <th>InvoiceDate</th>\n",
       "      <th>UnitPrice</th>\n",
       "      <th>CustomerID</th>\n",
       "      <th>TotalAmount</th>\n",
       "    </tr>\n",
       "  </thead>\n",
       "  <tbody>\n",
       "    <tr>\n",
       "      <th>count</th>\n",
       "      <td>397884.000000</td>\n",
       "      <td>397884</td>\n",
       "      <td>397884.000000</td>\n",
       "      <td>397884.000000</td>\n",
       "      <td>397884.000000</td>\n",
       "    </tr>\n",
       "    <tr>\n",
       "      <th>mean</th>\n",
       "      <td>12.988238</td>\n",
       "      <td>2011-07-10 23:41:23.511023360</td>\n",
       "      <td>3.116488</td>\n",
       "      <td>15294.423453</td>\n",
       "      <td>22.397000</td>\n",
       "    </tr>\n",
       "    <tr>\n",
       "      <th>min</th>\n",
       "      <td>1.000000</td>\n",
       "      <td>2010-12-01 08:26:00</td>\n",
       "      <td>0.001000</td>\n",
       "      <td>12346.000000</td>\n",
       "      <td>0.001000</td>\n",
       "    </tr>\n",
       "    <tr>\n",
       "      <th>25%</th>\n",
       "      <td>2.000000</td>\n",
       "      <td>2011-04-07 11:12:00</td>\n",
       "      <td>1.250000</td>\n",
       "      <td>13969.000000</td>\n",
       "      <td>4.680000</td>\n",
       "    </tr>\n",
       "    <tr>\n",
       "      <th>50%</th>\n",
       "      <td>6.000000</td>\n",
       "      <td>2011-07-31 14:39:00</td>\n",
       "      <td>1.950000</td>\n",
       "      <td>15159.000000</td>\n",
       "      <td>11.800000</td>\n",
       "    </tr>\n",
       "    <tr>\n",
       "      <th>75%</th>\n",
       "      <td>12.000000</td>\n",
       "      <td>2011-10-20 14:33:00</td>\n",
       "      <td>3.750000</td>\n",
       "      <td>16795.000000</td>\n",
       "      <td>19.800000</td>\n",
       "    </tr>\n",
       "    <tr>\n",
       "      <th>max</th>\n",
       "      <td>80995.000000</td>\n",
       "      <td>2011-12-09 12:50:00</td>\n",
       "      <td>8142.750000</td>\n",
       "      <td>18287.000000</td>\n",
       "      <td>168469.600000</td>\n",
       "    </tr>\n",
       "    <tr>\n",
       "      <th>std</th>\n",
       "      <td>179.331775</td>\n",
       "      <td>NaN</td>\n",
       "      <td>22.097877</td>\n",
       "      <td>1713.141560</td>\n",
       "      <td>309.071041</td>\n",
       "    </tr>\n",
       "  </tbody>\n",
       "</table>\n",
       "</div>"
      ],
      "text/plain": [
       "            Quantity                    InvoiceDate      UnitPrice  \\\n",
       "count  397884.000000                         397884  397884.000000   \n",
       "mean       12.988238  2011-07-10 23:41:23.511023360       3.116488   \n",
       "min         1.000000            2010-12-01 08:26:00       0.001000   \n",
       "25%         2.000000            2011-04-07 11:12:00       1.250000   \n",
       "50%         6.000000            2011-07-31 14:39:00       1.950000   \n",
       "75%        12.000000            2011-10-20 14:33:00       3.750000   \n",
       "max     80995.000000            2011-12-09 12:50:00    8142.750000   \n",
       "std       179.331775                            NaN      22.097877   \n",
       "\n",
       "          CustomerID    TotalAmount  \n",
       "count  397884.000000  397884.000000  \n",
       "mean    15294.423453      22.397000  \n",
       "min     12346.000000       0.001000  \n",
       "25%     13969.000000       4.680000  \n",
       "50%     15159.000000      11.800000  \n",
       "75%     16795.000000      19.800000  \n",
       "max     18287.000000  168469.600000  \n",
       "std      1713.141560     309.071041  "
      ]
     },
     "execution_count": 23,
     "metadata": {},
     "output_type": "execute_result"
    }
   ],
   "source": [
    "df.describe()"
   ]
  },
  {
   "cell_type": "code",
   "execution_count": 24,
   "id": "a96e9017",
   "metadata": {},
   "outputs": [
    {
     "data": {
      "text/plain": [
       "(397884, 9)"
      ]
     },
     "execution_count": 24,
     "metadata": {},
     "output_type": "execute_result"
    }
   ],
   "source": [
    "df.shape"
   ]
  },
  {
   "cell_type": "code",
   "execution_count": null,
   "id": "9ae8211a",
   "metadata": {},
   "outputs": [],
   "source": [
    "# save cleaned data\n",
    "df.to_csv(\"cleaned_data.csv\",index=False)"
   ]
  },
  {
   "cell_type": "markdown",
   "id": "a6b2ccc9",
   "metadata": {},
   "source": []
  },
  {
   "cell_type": "markdown",
   "id": "e82b9a32",
   "metadata": {},
   "source": [
    "# exploratory data analysis"
   ]
  },
  {
   "cell_type": "code",
   "execution_count": 18,
   "id": "3b840bf7",
   "metadata": {},
   "outputs": [],
   "source": [
    "import numpy as np\n",
    "import pandas as pd\n",
    "import seaborn as sns\n",
    "import matplotlib.pyplot as plt\n"
   ]
  },
  {
   "cell_type": "code",
   "execution_count": 19,
   "id": "812d0d0d",
   "metadata": {},
   "outputs": [
    {
     "data": {
      "text/html": [
       "<div>\n",
       "<style scoped>\n",
       "    .dataframe tbody tr th:only-of-type {\n",
       "        vertical-align: middle;\n",
       "    }\n",
       "\n",
       "    .dataframe tbody tr th {\n",
       "        vertical-align: top;\n",
       "    }\n",
       "\n",
       "    .dataframe thead th {\n",
       "        text-align: right;\n",
       "    }\n",
       "</style>\n",
       "<table border=\"1\" class=\"dataframe\">\n",
       "  <thead>\n",
       "    <tr style=\"text-align: right;\">\n",
       "      <th></th>\n",
       "      <th>InvoiceNo</th>\n",
       "      <th>StockCode</th>\n",
       "      <th>Description</th>\n",
       "      <th>Quantity</th>\n",
       "      <th>InvoiceDate</th>\n",
       "      <th>UnitPrice</th>\n",
       "      <th>CustomerID</th>\n",
       "      <th>Country</th>\n",
       "      <th>TotalAmount</th>\n",
       "    </tr>\n",
       "  </thead>\n",
       "  <tbody>\n",
       "    <tr>\n",
       "      <th>253910</th>\n",
       "      <td>567944</td>\n",
       "      <td>22144</td>\n",
       "      <td>CHRISTMAS CRAFT LITTLE FRIENDS</td>\n",
       "      <td>3</td>\n",
       "      <td>2011-09-22 19:54:00</td>\n",
       "      <td>2.10</td>\n",
       "      <td>14562</td>\n",
       "      <td>United Kingdom</td>\n",
       "      <td>6.30</td>\n",
       "    </tr>\n",
       "    <tr>\n",
       "      <th>35049</th>\n",
       "      <td>541206</td>\n",
       "      <td>22345</td>\n",
       "      <td>PARTY PIZZA DISH BLUE POLKADOT</td>\n",
       "      <td>24</td>\n",
       "      <td>2011-01-14 12:24:00</td>\n",
       "      <td>0.21</td>\n",
       "      <td>14646</td>\n",
       "      <td>Netherlands</td>\n",
       "      <td>5.04</td>\n",
       "    </tr>\n",
       "    <tr>\n",
       "      <th>148898</th>\n",
       "      <td>555562</td>\n",
       "      <td>22221</td>\n",
       "      <td>CAKE STAND LOVEBIRD 2 TIER PINK</td>\n",
       "      <td>1</td>\n",
       "      <td>2011-06-05 14:45:00</td>\n",
       "      <td>9.95</td>\n",
       "      <td>17841</td>\n",
       "      <td>United Kingdom</td>\n",
       "      <td>9.95</td>\n",
       "    </tr>\n",
       "    <tr>\n",
       "      <th>303331</th>\n",
       "      <td>572528</td>\n",
       "      <td>21790</td>\n",
       "      <td>VINTAGE SNAP CARDS</td>\n",
       "      <td>2</td>\n",
       "      <td>2011-10-24 15:43:00</td>\n",
       "      <td>0.85</td>\n",
       "      <td>13176</td>\n",
       "      <td>United Kingdom</td>\n",
       "      <td>1.70</td>\n",
       "    </tr>\n",
       "    <tr>\n",
       "      <th>396402</th>\n",
       "      <td>581414</td>\n",
       "      <td>23371</td>\n",
       "      <td>SET 36 COLOUR PENCILS SPACEBOY</td>\n",
       "      <td>1</td>\n",
       "      <td>2011-12-08 14:39:00</td>\n",
       "      <td>1.25</td>\n",
       "      <td>14730</td>\n",
       "      <td>United Kingdom</td>\n",
       "      <td>1.25</td>\n",
       "    </tr>\n",
       "  </tbody>\n",
       "</table>\n",
       "</div>"
      ],
      "text/plain": [
       "        InvoiceNo StockCode                      Description  Quantity  \\\n",
       "253910     567944     22144   CHRISTMAS CRAFT LITTLE FRIENDS         3   \n",
       "35049      541206     22345   PARTY PIZZA DISH BLUE POLKADOT        24   \n",
       "148898     555562     22221  CAKE STAND LOVEBIRD 2 TIER PINK         1   \n",
       "303331     572528     21790               VINTAGE SNAP CARDS         2   \n",
       "396402     581414     23371  SET 36 COLOUR PENCILS SPACEBOY          1   \n",
       "\n",
       "                InvoiceDate  UnitPrice  CustomerID         Country  \\\n",
       "253910  2011-09-22 19:54:00       2.10       14562  United Kingdom   \n",
       "35049   2011-01-14 12:24:00       0.21       14646     Netherlands   \n",
       "148898  2011-06-05 14:45:00       9.95       17841  United Kingdom   \n",
       "303331  2011-10-24 15:43:00       0.85       13176  United Kingdom   \n",
       "396402  2011-12-08 14:39:00       1.25       14730  United Kingdom   \n",
       "\n",
       "        TotalAmount  \n",
       "253910         6.30  \n",
       "35049          5.04  \n",
       "148898         9.95  \n",
       "303331         1.70  \n",
       "396402         1.25  "
      ]
     },
     "execution_count": 19,
     "metadata": {},
     "output_type": "execute_result"
    }
   ],
   "source": [
    "df = pd.read_csv(\"/Users/anuragchaubey/customer-segmentation/data/cleaned_data.csv\")\n",
    "df.sample(5)"
   ]
  },
  {
   "cell_type": "code",
   "execution_count": 20,
   "id": "3b89025d",
   "metadata": {},
   "outputs": [],
   "source": [
    "df['InvoiceDate'] = pd.to_datetime(df['InvoiceDate'])"
   ]
  },
  {
   "cell_type": "code",
   "execution_count": 21,
   "id": "35d5d3bb",
   "metadata": {},
   "outputs": [
    {
     "name": "stdout",
     "output_type": "stream",
     "text": [
      "shape of the dataset :  (397884, 9)\n"
     ]
    }
   ],
   "source": [
    "print(\"shape of the dataset : \",df.shape)"
   ]
  },
  {
   "cell_type": "code",
   "execution_count": 22,
   "id": "837fff12",
   "metadata": {},
   "outputs": [
    {
     "name": "stdout",
     "output_type": "stream",
     "text": [
      "<class 'pandas.core.frame.DataFrame'>\n",
      "RangeIndex: 397884 entries, 0 to 397883\n",
      "Data columns (total 9 columns):\n",
      " #   Column       Non-Null Count   Dtype         \n",
      "---  ------       --------------   -----         \n",
      " 0   InvoiceNo    397884 non-null  int64         \n",
      " 1   StockCode    397884 non-null  object        \n",
      " 2   Description  397884 non-null  object        \n",
      " 3   Quantity     397884 non-null  int64         \n",
      " 4   InvoiceDate  397884 non-null  datetime64[ns]\n",
      " 5   UnitPrice    397884 non-null  float64       \n",
      " 6   CustomerID   397884 non-null  int64         \n",
      " 7   Country      397884 non-null  object        \n",
      " 8   TotalAmount  397884 non-null  float64       \n",
      "dtypes: datetime64[ns](1), float64(2), int64(3), object(3)\n",
      "memory usage: 27.3+ MB\n"
     ]
    }
   ],
   "source": [
    "df.info()"
   ]
  },
  {
   "cell_type": "code",
   "execution_count": 23,
   "id": "1b5dc871",
   "metadata": {},
   "outputs": [
    {
     "data": {
      "text/html": [
       "<div>\n",
       "<style scoped>\n",
       "    .dataframe tbody tr th:only-of-type {\n",
       "        vertical-align: middle;\n",
       "    }\n",
       "\n",
       "    .dataframe tbody tr th {\n",
       "        vertical-align: top;\n",
       "    }\n",
       "\n",
       "    .dataframe thead th {\n",
       "        text-align: right;\n",
       "    }\n",
       "</style>\n",
       "<table border=\"1\" class=\"dataframe\">\n",
       "  <thead>\n",
       "    <tr style=\"text-align: right;\">\n",
       "      <th></th>\n",
       "      <th>InvoiceNo</th>\n",
       "      <th>StockCode</th>\n",
       "      <th>Description</th>\n",
       "      <th>Quantity</th>\n",
       "      <th>InvoiceDate</th>\n",
       "      <th>UnitPrice</th>\n",
       "      <th>CustomerID</th>\n",
       "      <th>Country</th>\n",
       "      <th>TotalAmount</th>\n",
       "    </tr>\n",
       "  </thead>\n",
       "  <tbody>\n",
       "    <tr>\n",
       "      <th>count</th>\n",
       "      <td>397884.000000</td>\n",
       "      <td>397884</td>\n",
       "      <td>397884</td>\n",
       "      <td>397884.000000</td>\n",
       "      <td>397884</td>\n",
       "      <td>397884.000000</td>\n",
       "      <td>397884.000000</td>\n",
       "      <td>397884</td>\n",
       "      <td>397884.000000</td>\n",
       "    </tr>\n",
       "    <tr>\n",
       "      <th>unique</th>\n",
       "      <td>NaN</td>\n",
       "      <td>3665</td>\n",
       "      <td>3877</td>\n",
       "      <td>NaN</td>\n",
       "      <td>NaN</td>\n",
       "      <td>NaN</td>\n",
       "      <td>NaN</td>\n",
       "      <td>37</td>\n",
       "      <td>NaN</td>\n",
       "    </tr>\n",
       "    <tr>\n",
       "      <th>top</th>\n",
       "      <td>NaN</td>\n",
       "      <td>85123A</td>\n",
       "      <td>WHITE HANGING HEART T-LIGHT HOLDER</td>\n",
       "      <td>NaN</td>\n",
       "      <td>NaN</td>\n",
       "      <td>NaN</td>\n",
       "      <td>NaN</td>\n",
       "      <td>United Kingdom</td>\n",
       "      <td>NaN</td>\n",
       "    </tr>\n",
       "    <tr>\n",
       "      <th>freq</th>\n",
       "      <td>NaN</td>\n",
       "      <td>2035</td>\n",
       "      <td>2028</td>\n",
       "      <td>NaN</td>\n",
       "      <td>NaN</td>\n",
       "      <td>NaN</td>\n",
       "      <td>NaN</td>\n",
       "      <td>354321</td>\n",
       "      <td>NaN</td>\n",
       "    </tr>\n",
       "    <tr>\n",
       "      <th>mean</th>\n",
       "      <td>560616.934451</td>\n",
       "      <td>NaN</td>\n",
       "      <td>NaN</td>\n",
       "      <td>12.988238</td>\n",
       "      <td>2011-07-10 23:41:23.511023360</td>\n",
       "      <td>3.116488</td>\n",
       "      <td>15294.423453</td>\n",
       "      <td>NaN</td>\n",
       "      <td>22.397000</td>\n",
       "    </tr>\n",
       "    <tr>\n",
       "      <th>min</th>\n",
       "      <td>536365.000000</td>\n",
       "      <td>NaN</td>\n",
       "      <td>NaN</td>\n",
       "      <td>1.000000</td>\n",
       "      <td>2010-12-01 08:26:00</td>\n",
       "      <td>0.001000</td>\n",
       "      <td>12346.000000</td>\n",
       "      <td>NaN</td>\n",
       "      <td>0.001000</td>\n",
       "    </tr>\n",
       "    <tr>\n",
       "      <th>25%</th>\n",
       "      <td>549234.000000</td>\n",
       "      <td>NaN</td>\n",
       "      <td>NaN</td>\n",
       "      <td>2.000000</td>\n",
       "      <td>2011-04-07 11:12:00</td>\n",
       "      <td>1.250000</td>\n",
       "      <td>13969.000000</td>\n",
       "      <td>NaN</td>\n",
       "      <td>4.680000</td>\n",
       "    </tr>\n",
       "    <tr>\n",
       "      <th>50%</th>\n",
       "      <td>561893.000000</td>\n",
       "      <td>NaN</td>\n",
       "      <td>NaN</td>\n",
       "      <td>6.000000</td>\n",
       "      <td>2011-07-31 14:39:00</td>\n",
       "      <td>1.950000</td>\n",
       "      <td>15159.000000</td>\n",
       "      <td>NaN</td>\n",
       "      <td>11.800000</td>\n",
       "    </tr>\n",
       "    <tr>\n",
       "      <th>75%</th>\n",
       "      <td>572090.000000</td>\n",
       "      <td>NaN</td>\n",
       "      <td>NaN</td>\n",
       "      <td>12.000000</td>\n",
       "      <td>2011-10-20 14:33:00</td>\n",
       "      <td>3.750000</td>\n",
       "      <td>16795.000000</td>\n",
       "      <td>NaN</td>\n",
       "      <td>19.800000</td>\n",
       "    </tr>\n",
       "    <tr>\n",
       "      <th>max</th>\n",
       "      <td>581587.000000</td>\n",
       "      <td>NaN</td>\n",
       "      <td>NaN</td>\n",
       "      <td>80995.000000</td>\n",
       "      <td>2011-12-09 12:50:00</td>\n",
       "      <td>8142.750000</td>\n",
       "      <td>18287.000000</td>\n",
       "      <td>NaN</td>\n",
       "      <td>168469.600000</td>\n",
       "    </tr>\n",
       "    <tr>\n",
       "      <th>std</th>\n",
       "      <td>13106.117773</td>\n",
       "      <td>NaN</td>\n",
       "      <td>NaN</td>\n",
       "      <td>179.331775</td>\n",
       "      <td>NaN</td>\n",
       "      <td>22.097877</td>\n",
       "      <td>1713.141560</td>\n",
       "      <td>NaN</td>\n",
       "      <td>309.071041</td>\n",
       "    </tr>\n",
       "  </tbody>\n",
       "</table>\n",
       "</div>"
      ],
      "text/plain": [
       "            InvoiceNo StockCode                         Description  \\\n",
       "count   397884.000000    397884                              397884   \n",
       "unique            NaN      3665                                3877   \n",
       "top               NaN    85123A  WHITE HANGING HEART T-LIGHT HOLDER   \n",
       "freq              NaN      2035                                2028   \n",
       "mean    560616.934451       NaN                                 NaN   \n",
       "min     536365.000000       NaN                                 NaN   \n",
       "25%     549234.000000       NaN                                 NaN   \n",
       "50%     561893.000000       NaN                                 NaN   \n",
       "75%     572090.000000       NaN                                 NaN   \n",
       "max     581587.000000       NaN                                 NaN   \n",
       "std      13106.117773       NaN                                 NaN   \n",
       "\n",
       "             Quantity                    InvoiceDate      UnitPrice  \\\n",
       "count   397884.000000                         397884  397884.000000   \n",
       "unique            NaN                            NaN            NaN   \n",
       "top               NaN                            NaN            NaN   \n",
       "freq              NaN                            NaN            NaN   \n",
       "mean        12.988238  2011-07-10 23:41:23.511023360       3.116488   \n",
       "min          1.000000            2010-12-01 08:26:00       0.001000   \n",
       "25%          2.000000            2011-04-07 11:12:00       1.250000   \n",
       "50%          6.000000            2011-07-31 14:39:00       1.950000   \n",
       "75%         12.000000            2011-10-20 14:33:00       3.750000   \n",
       "max      80995.000000            2011-12-09 12:50:00    8142.750000   \n",
       "std        179.331775                            NaN      22.097877   \n",
       "\n",
       "           CustomerID         Country    TotalAmount  \n",
       "count   397884.000000          397884  397884.000000  \n",
       "unique            NaN              37            NaN  \n",
       "top               NaN  United Kingdom            NaN  \n",
       "freq              NaN          354321            NaN  \n",
       "mean     15294.423453             NaN      22.397000  \n",
       "min      12346.000000             NaN       0.001000  \n",
       "25%      13969.000000             NaN       4.680000  \n",
       "50%      15159.000000             NaN      11.800000  \n",
       "75%      16795.000000             NaN      19.800000  \n",
       "max      18287.000000             NaN  168469.600000  \n",
       "std       1713.141560             NaN     309.071041  "
      ]
     },
     "execution_count": 23,
     "metadata": {},
     "output_type": "execute_result"
    }
   ],
   "source": [
    "df.describe(include=\"all\")"
   ]
  },
  {
   "cell_type": "code",
   "execution_count": 24,
   "id": "22d94240",
   "metadata": {},
   "outputs": [
    {
     "data": {
      "text/plain": [
       "InvoiceNo      0\n",
       "StockCode      0\n",
       "Description    0\n",
       "Quantity       0\n",
       "InvoiceDate    0\n",
       "UnitPrice      0\n",
       "CustomerID     0\n",
       "Country        0\n",
       "TotalAmount    0\n",
       "dtype: int64"
      ]
     },
     "execution_count": 24,
     "metadata": {},
     "output_type": "execute_result"
    }
   ],
   "source": [
    "df.isnull().sum()"
   ]
  },
  {
   "cell_type": "code",
   "execution_count": 25,
   "id": "39ec7038",
   "metadata": {},
   "outputs": [
    {
     "data": {
      "text/plain": [
       "np.int64(5192)"
      ]
     },
     "execution_count": 25,
     "metadata": {},
     "output_type": "execute_result"
    }
   ],
   "source": [
    "df.duplicated().sum()"
   ]
  },
  {
   "cell_type": "code",
   "execution_count": 26,
   "id": "3cbba537",
   "metadata": {},
   "outputs": [],
   "source": [
    "df = df.drop_duplicates()"
   ]
  },
  {
   "cell_type": "code",
   "execution_count": 27,
   "id": "58769a5e",
   "metadata": {},
   "outputs": [
    {
     "data": {
      "text/plain": [
       "np.int64(0)"
      ]
     },
     "execution_count": 27,
     "metadata": {},
     "output_type": "execute_result"
    }
   ],
   "source": [
    "df.duplicated().sum()"
   ]
  },
  {
   "cell_type": "code",
   "execution_count": 28,
   "id": "e82af565",
   "metadata": {},
   "outputs": [
    {
     "data": {
      "image/png": "[encoded data removed]",
      "text/plain": [
       "<Figure size 1200x600 with 1 Axes>"
      ]
     },
     "metadata": {},
     "output_type": "display_data"
    }
   ],
   "source": [
    "# current missing value heatmap\n",
    "plt.figure(figsize=(12,6))\n",
    "sns.heatmap(df.isnull(), cbar=False, cmap='viridis')\n",
    "plt.title(\"Missing Value Heatmap\")\n",
    "plt.show()"
   ]
  },
  {
   "cell_type": "code",
   "execution_count": 30,
   "id": "a7bba5a6",
   "metadata": {},
   "outputs": [],
   "source": [
    "df['CustomerID'] = df['CustomerID'].astype('str')  # or 'category'"
   ]
  },
  {
   "cell_type": "code",
   "execution_count": 31,
   "id": "74e4e338",
   "metadata": {},
   "outputs": [
    {
     "name": "stdout",
     "output_type": "stream",
     "text": [
      "<class 'pandas.core.frame.DataFrame'>\n",
      "Index: 392692 entries, 0 to 397883\n",
      "Data columns (total 9 columns):\n",
      " #   Column       Non-Null Count   Dtype         \n",
      "---  ------       --------------   -----         \n",
      " 0   InvoiceNo    392692 non-null  int64         \n",
      " 1   StockCode    392692 non-null  object        \n",
      " 2   Description  392692 non-null  object        \n",
      " 3   Quantity     392692 non-null  int64         \n",
      " 4   InvoiceDate  392692 non-null  datetime64[ns]\n",
      " 5   UnitPrice    392692 non-null  float64       \n",
      " 6   CustomerID   392692 non-null  object        \n",
      " 7   Country      392692 non-null  object        \n",
      " 8   TotalAmount  392692 non-null  float64       \n",
      "dtypes: datetime64[ns](1), float64(2), int64(2), object(4)\n",
      "memory usage: 30.0+ MB\n"
     ]
    }
   ],
   "source": [
    "df.info()"
   ]
  },
  {
   "cell_type": "markdown",
   "id": "0147b084",
   "metadata": {},
   "source": [
    "- Dataset contains 397884 rows and 9 columns\n",
    "- Data types are correct (`InvoiceDate` is datetime, `CustomerID` is int)\n",
    "- No null values found after cleaning\n",
    "- No duplicate rows present\n",
    "- All columns look logically consistent and ready for further analysis"
   ]
  },
  {
   "cell_type": "markdown",
   "id": "414216b1",
   "metadata": {},
   "source": [
    "# customerID detailed analysis"
   ]
  },
  {
   "cell_type": "code",
   "execution_count": 32,
   "id": "0f413988",
   "metadata": {},
   "outputs": [
    {
     "data": {
      "text/plain": [
       "4338"
      ]
     },
     "execution_count": 32,
     "metadata": {},
     "output_type": "execute_result"
    }
   ],
   "source": [
    "# total unique customers\n",
    "df['CustomerID'].nunique()"
   ]
  },
  {
   "cell_type": "code",
   "execution_count": 33,
   "id": "1e8b569c",
   "metadata": {},
   "outputs": [
    {
     "data": {
      "text/plain": [
       "CustomerID\n",
       "14646    280206.02\n",
       "18102    259657.30\n",
       "17450    194390.79\n",
       "16446    168472.50\n",
       "14911    143711.17\n",
       "12415    124914.53\n",
       "14156    117210.08\n",
       "17511     91062.38\n",
       "16029     80850.84\n",
       "12346     77183.60\n",
       "Name: TotalAmount, dtype: float64"
      ]
     },
     "execution_count": 33,
     "metadata": {},
     "output_type": "execute_result"
    }
   ],
   "source": [
    "# top 10 customers on the basis of spending\n",
    "df.groupby('CustomerID')['TotalAmount'].sum().sort_values(ascending=False).head(10)"
   ]
  },
  {
   "cell_type": "code",
   "execution_count": null,
   "id": "bc3f8de1",
   "metadata": {},
   "outputs": [
    {
     "data": {
      "text/plain": [
       "CustomerID\n",
       "12748    209\n",
       "14911    201\n",
       "17841    124\n",
       "13089     97\n",
       "14606     93\n",
       "15311     91\n",
       "12971     86\n",
       "14646     73\n",
       "16029     63\n",
       "13408     62\n",
       "Name: InvoiceNo, dtype: int64"
      ]
     },
     "execution_count": 34,
     "metadata": {},
     "output_type": "execute_result"
    }
   ],
   "source": [
    "# orders per customer\n",
    "df.groupby('CustomerID')['InvoiceNo'].nunique().sort_values(ascending=False).head(10)\n"
   ]
  },
  {
   "cell_type": "code",
   "execution_count": 35,
   "id": "bc2502d6",
   "metadata": {},
   "outputs": [
    {
     "data": {
      "image/png": "[encoded data removed]",
      "text/plain": [
       "<Figure size 1000x500 with 1 Axes>"
      ]
     },
     "metadata": {},
     "output_type": "display_data"
    }
   ],
   "source": [
    "# top 10 customers by spending\n",
    "top_customers = df.groupby('CustomerID')['TotalAmount'].sum().sort_values(ascending=False).head(10)\n",
    "top_customers.plot(kind='bar', figsize=(10,5), title='Top 10 Customers by Spending')\n",
    "plt.ylabel(\"Revenue\")\n",
    "plt.show()"
   ]
  },
  {
   "cell_type": "code",
   "execution_count": 36,
   "id": "0ab62680",
   "metadata": {},
   "outputs": [
    {
     "data": {
      "image/png": "[encoded data removed]",
      "text/plain": [
       "<Figure size 1000x500 with 1 Axes>"
      ]
     },
     "metadata": {},
     "output_type": "display_data"
    }
   ],
   "source": [
    "# top 10 customers by order\n",
    "top_customers_order = df.groupby('CustomerID')['InvoiceNo'].nunique().sort_values(ascending=False).head(10)\n",
    "top_customers_order.plot(kind='bar', figsize=(10,5), title='Top 10 Customers by no of orders')\n",
    "plt.ylabel(\"no of orders\")\n",
    "plt.show()"
   ]
  },
  {
   "cell_type": "code",
   "execution_count": 37,
   "id": "8e182dab",
   "metadata": {},
   "outputs": [
    {
     "name": "stdout",
     "output_type": "stream",
     "text": [
      "Top 10 customers contribute 17.30% of total revenue.\n"
     ]
    }
   ],
   "source": [
    "# revenue percentage of top 10 customers\n",
    "\n",
    "total_revenue = df['TotalAmount'].sum()\n",
    "top_10 = df.groupby('CustomerID')['TotalAmount'].sum().sort_values(ascending=False).head(10)\n",
    "top_10_percent = (top_10.sum() / total_revenue) * 100\n",
    "print(f\"Top 10 customers contribute {top_10_percent:.2f}% of total revenue.\")"
   ]
  },
  {
   "cell_type": "code",
   "execution_count": null,
   "id": "31f24285",
   "metadata": {},
   "outputs": [
    {
     "name": "stdout",
     "output_type": "stream",
     "text": [
      "Customers with only 1 order: 1493 (34.42%)\n",
      "Customers with <=2 orders: 2328 (53.67%)\n"
     ]
    }
   ],
   "source": [
    "# orders per customer analysis\n",
    "\n",
    "order_per_customer = df.groupby('CustomerID')['InvoiceNo'].nunique()\n",
    "one_time_buyers = (order_per_customer==1).sum()\n",
    "low_freq_buyers = (order_per_customer<=2).sum()\n",
    "total_customers = df['CustomerID'].nunique()\n",
    "\n",
    "print(f\"Customers with only 1 order: {one_time_buyers} ({(one_time_buyers/total_customers)*100:.2f}%)\")\n",
    "print(f\"Customers with <=2 orders: {low_freq_buyers} ({(low_freq_buyers/total_customers)*100:.2f}%)\")"
   ]
  },
  {
   "cell_type": "markdown",
   "id": "94d9668d",
   "metadata": {},
   "source": [
    "##  Customer Behavior Insights\n",
    "- Total Unique Customers: 4338\n",
    "- Top 10 customers contribute 17.30% of total revenue ✅\n",
    "- 1493 customers (34.42%) have made only 1 purchase\n",
    "- Around 54% customers have ordered 1–2 times only  \n",
    "  → Indicates long-tail customer base and retention opportunity"
   ]
  },
  {
   "cell_type": "markdown",
   "id": "ea9e2307",
   "metadata": {},
   "source": [
    "## univariate analysis (InvoiceNo)"
   ]
  },
  {
   "cell_type": "code",
   "execution_count": 51,
   "id": "2e7fe86d",
   "metadata": {},
   "outputs": [
    {
     "name": "stdout",
     "output_type": "stream",
     "text": [
      "Total rows        : 392692\n",
      "Unique Invoices   : 18532\n",
      "Sample InvoiceNos : [536365 536366 536367 536368 536369]\n"
     ]
    }
   ],
   "source": [
    "# basic invoiceno overview\n",
    "print(\"Total rows        :\", df.shape[0])\n",
    "print(\"Unique Invoices   :\", df['InvoiceNo'].nunique())\n",
    "print(\"Sample InvoiceNos :\", df['InvoiceNo'].unique()[:5])"
   ]
  },
  {
   "cell_type": "code",
   "execution_count": 53,
   "id": "1971e2ad",
   "metadata": {},
   "outputs": [
    {
     "data": {
      "text/plain": [
       "dtype('int64')"
      ]
     },
     "execution_count": 53,
     "metadata": {},
     "output_type": "execute_result"
    }
   ],
   "source": [
    "df['InvoiceNo'].dtypes"
   ]
  },
  {
   "cell_type": "code",
   "execution_count": 54,
   "id": "eeb0efc9",
   "metadata": {},
   "outputs": [],
   "source": [
    "df['InvoiceNo'] = df['InvoiceNo'].astype(str)"
   ]
  },
  {
   "cell_type": "code",
   "execution_count": 55,
   "id": "a53f3043",
   "metadata": {},
   "outputs": [
    {
     "name": "stdout",
     "output_type": "stream",
     "text": [
      "Cancelled Invoices Count: 0\n",
      "Cancelled Invoices Sample: []\n"
     ]
    }
   ],
   "source": [
    "# total no of cancelled invoices\n",
    "cancelled = df['InvoiceNo'].str.startswith('C')\n",
    "print(\"Cancelled Invoices Count:\", cancelled.sum())\n",
    "print(\"Cancelled Invoices Sample:\", df[cancelled]['InvoiceNo'].unique()[:5])"
   ]
  },
  {
   "cell_type": "code",
   "execution_count": 56,
   "id": "7da8ab70",
   "metadata": {},
   "outputs": [
    {
     "data": {
      "text/plain": [
       "InvoiceNo\n",
       "6    392692\n",
       "Name: count, dtype: int64"
      ]
     },
     "execution_count": 56,
     "metadata": {},
     "output_type": "execute_result"
    }
   ],
   "source": [
    "df['InvoiceNo'].str.len().value_counts()"
   ]
  },
  {
   "cell_type": "code",
   "execution_count": null,
   "id": "99b11942",
   "metadata": {},
   "outputs": [
    {
     "name": "stderr",
     "output_type": "stream",
     "text": [
      "/var/folders/wz/4tdnltpd0j50hb4mv_kk_0140000gn/T/ipykernel_1232/1935761810.py:2: FutureWarning: 'M' is deprecated and will be removed in a future version, please use 'ME' instead.\n",
      "  monthly_invoices = df.set_index('InvoiceDate')['InvoiceNo'].resample('M').nunique()\n"
     ]
    },
    {
     "data": {
      "image/png": "[encoded data removed]",
      "text/plain": [
       "<Figure size 1200x500 with 1 Axes>"
      ]
     },
     "metadata": {},
     "output_type": "display_data"
    }
   ],
   "source": [
    "# visualizing invoices per month\n",
    "\n",
    "monthly_invoices = df.set_index('InvoiceDate')['InvoiceNo'].resample('M').nunique()\n",
    "monthly_invoices.index = monthly_invoices.index.strftime('%b %Y') \n",
    "monthly_invoices.plot(kind='bar', figsize=(12,5), title=\"Monthly Unique Invoice Count\")\n",
    "plt.ylabel(\"No. of Invoices\")\n",
    "plt.xlabel(\"Month\")\n",
    "plt.xticks(rotation=45)\n",
    "plt.tight_layout()\n",
    "plt.show()\n"
   ]
  },
  {
   "cell_type": "code",
   "execution_count": 60,
   "id": "f8488873",
   "metadata": {},
   "outputs": [
    {
     "name": "stdout",
     "output_type": "stream",
     "text": [
      "Invoices with 50+ items: 1650\n"
     ]
    },
    {
     "data": {
      "text/plain": [
       "InvoiceNo\n",
       "576339    542\n",
       "579196    533\n",
       "580727    529\n",
       "578270    442\n",
       "573576    435\n",
       "Name: count, dtype: int64"
      ]
     },
     "execution_count": 60,
     "metadata": {},
     "output_type": "execute_result"
    }
   ],
   "source": [
    "# high product invoices\n",
    "\n",
    "invoice_counts = df['InvoiceNo'].value_counts()\n",
    "high_product_invoices = invoice_counts[invoice_counts >= 50]\n",
    "print(f\"Invoices with 50+ items: {len(high_product_invoices)}\")\n",
    "high_product_invoices.head()"
   ]
  },
  {
   "cell_type": "code",
   "execution_count": 58,
   "id": "b7160b3a",
   "metadata": {},
   "outputs": [
    {
     "data": {
      "text/plain": [
       "count    18532.000000\n",
       "mean        21.189942\n",
       "std         24.348782\n",
       "min          1.000000\n",
       "25%          6.000000\n",
       "50%         15.000000\n",
       "75%         27.000000\n",
       "max        542.000000\n",
       "Name: count, dtype: float64"
      ]
     },
     "execution_count": 58,
     "metadata": {},
     "output_type": "execute_result"
    }
   ],
   "source": [
    "# duplicate invoice check\n",
    "invoice_counts = df['InvoiceNo'].value_counts()\n",
    "invoice_counts.describe()\n"
   ]
  },
  {
   "cell_type": "markdown",
   "id": "38c6b1d7",
   "metadata": {},
   "source": [
    "###  Univariate Analysis: InvoiceNo\n",
    "\n",
    "- Total rows: 3,92,692\n",
    "- Unique Invoices: 18,532\n",
    "- One invoice has multiple product rows\n",
    "- Cancelled invoices detected (prefix 'C') — total: 0 (already removed in preprocessing)\n",
    "- Some invoices have 50+ product rows\n",
    "- Seasonality check shows more invoices during october-November\n"
   ]
  }
 ],
 "metadata": {
  "kernelspec": {
   "display_name": "Python 3",
   "language": "python",
   "name": "python3"
  },
  "language_info": {
   "codemirror_mode": {
    "name": "ipython",
    "version": 3
   },
   "file_extension": ".py",
   "mimetype": "text/x-python",
   "name": "python",
   "nbconvert_exporter": "python",
   "pygments_lexer": "ipython3",
   "version": "3.12.5"
  }
 },
 "nbformat": 4,
 "nbformat_minor": 5
}
